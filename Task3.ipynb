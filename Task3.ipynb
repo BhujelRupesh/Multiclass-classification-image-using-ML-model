{
  "cells": [
    {
      "cell_type": "code",
      "execution_count": 12,
      "metadata": {
        "id": "JSgNPbSIgMVH"
      },
      "outputs": [],
      "source": [
        "import numpy as np\n",
        "import pandas as pd\n",
        "import matplotlib.pyplot as plt\n",
        "import seaborn as sns\n",
        "from sklearn.datasets import fetch_openml\n",
        "from sklearn.model_selection import train_test_split\n"
      ]
    },
    {
      "cell_type": "code",
      "execution_count": 13,
      "metadata": {
        "colab": {
          "base_uri": "https://localhost:8080/"
        },
        "id": "mFluMILCgZV6",
        "outputId": "72459de2-c6bf-4fed-9e05-5f93db7ae381"
      },
      "outputs": [
        {
          "output_type": "stream",
          "name": "stderr",
          "text": [
            "/usr/local/lib/python3.10/dist-packages/sklearn/datasets/_openml.py:968: FutureWarning: The default value of `parser` will change from `'liac-arff'` to `'auto'` in 1.4. You can set `parser='auto'` to silence this warning. Therefore, an `ImportError` will be raised from 1.4 if the dataset is dense and pandas is not installed. Note that the pandas parser may return different data types. See the Notes Section in fetch_openml's API doc for details.\n",
            "  warn(\n"
          ]
        }
      ],
      "source": [
        "mnist = fetch_openml('mnist_784', as_frame=False)  #Fetching the MNIST dataset using fetch_openml, specifying the dataset name 'mnist_784'.\n",
        "# To return the data as a numpy array rather than panda Data frame as_frame = False set.\n",
        "\n",
        "#Extaracting the feature data(images of handwritten digits from) from the fetched dataset stroring into X variable, similary  extarcting 'target' feature into the y\n",
        "Bishal,Kharel  = mnist['data'],mnist['target']\n",
        "\n",
        "#Converting target to integer\n",
        "# y = y.astype(np.uint8)\n",
        "\n",
        "\n",
        "\n"
      ]
    },
    {
      "cell_type": "markdown",
      "metadata": {
        "id": "lEApSxfh3nRV"
      },
      "source": [
        "**Student Name : Bishal Kharel**\n",
        "\n",
        "**Student_Roll : S00354541**"
      ]
    },
    {
      "cell_type": "markdown",
      "metadata": {
        "id": "sFUzkxZV2bpi"
      },
      "source": []
    },
    {
      "cell_type": "code",
      "execution_count": 14,
      "metadata": {
        "id": "v0XeMe-zgZY1",
        "colab": {
          "base_uri": "https://localhost:8080/"
        },
        "outputId": "f06f787b-1e10-4cd7-edab-b97ce4af39db"
      },
      "outputs": [
        {
          "output_type": "stream",
          "name": "stdout",
          "text": [
            "41\n"
          ]
        }
      ],
      "source": [
        "#Spliting the last two digits from Student_ID\n",
        "Student_ID = 'S00354541'\n",
        "last_two_digits = int(Student_ID[-2:]) #Using Slicing method to slice the last two value\n",
        "print(last_two_digits)\n"
      ]
    },
    {
      "cell_type": "code",
      "execution_count": 15,
      "metadata": {
        "id": "_aDPiVsUgZcy",
        "colab": {
          "base_uri": "https://localhost:8080/"
        },
        "outputId": "cdd3cf88-7ac3-4053-9c83-6183789fe249"
      },
      "outputs": [
        {
          "output_type": "stream",
          "name": "stdout",
          "text": [
            "Training set shape: (60000, 784) (60000,)\n",
            "Testing set shape: (10000, 784) (10000,)\n"
          ]
        }
      ],
      "source": [
        "# Importing the necessary function for splitting the dataset\n",
        "from sklearn.model_selection import train_test_split\n",
        "\n",
        "# Splitting the dataset into training and testing sets\n",
        "# test_size=10000: 10,000 samples will be in the testing set\n",
        "# train_size=60000: 60,000 samples will be in the training set\n",
        "# random_state: Ensures reproducibility using the last two digits of the student ID\n",
        "Bishal_train, Bishal_test, Kharel_train, Kharel_test = train_test_split(\n",
        "    Bishal, Kharel, test_size=10000, train_size=60000, random_state=last_two_digits\n",
        ")\n",
        "\n",
        "# Printing the shape of the training and testing sets\n",
        "# Bishal_train.shape and Kharel_train.shape will give the dimensions of the training features and labels\n",
        "# Bishal_test.shape and Kharel_test.shape will give the dimensions of the testing features and labels\n",
        "print(\"Training set shape:\", Bishal_train.shape, Kharel_train.shape)\n",
        "print(\"Testing set shape:\", Bishal_test.shape, Kharel_test.shape)\n",
        "\n",
        "# Further splitting the training set into training and validation sets\n",
        "# test_size=0.2: 20% of the training set will be used for validation\n",
        "Bishal_train, Bishal_val, Kharel_train, Kharel_val = train_test_split(\n",
        "    Bishal_train, Kharel_train, test_size=0.2, random_state=last_two_digits\n",
        ")\n",
        "\n",
        "# After this split:\n",
        "# Bishal_train and Kharel_train contain the new training set (80% of the original training set)\n",
        "# Bishal_val and Kharel_val contain the validation set (20% of the original training set)\n"
      ]
    },
    {
      "cell_type": "markdown",
      "source": [],
      "metadata": {
        "id": "okpz0Ca8_1oR"
      }
    },
    {
      "cell_type": "markdown",
      "source": [
        "2. kNN Classifier\n",
        "\n",
        "a. Set k=10. Use the kNN classifier from scikit-learn, explaining the function parameters and their implications.\n",
        "\n",
        "b. Evaluate using metrics from the workshop. Discuss why specific metrics were chosen and what they indicate about the model.\n",
        "\n",
        "c.Experiment with different k values. Discuss any findings and insights regarding the choice of k."
      ],
      "metadata": {
        "id": "P6Lgn0u86Vn5"
      }
    },
    {
      "cell_type": "markdown",
      "source": [],
      "metadata": {
        "id": "f3RGDuCI6Vxx"
      }
    },
    {
      "cell_type": "code",
      "execution_count": 16,
      "metadata": {
        "id": "2AyEi6HmgZe-",
        "colab": {
          "base_uri": "https://localhost:8080/"
        },
        "outputId": "c7ad0ff0-c581-432d-9f08-f98e5418d3ab"
      },
      "outputs": [
        {
          "output_type": "stream",
          "name": "stdout",
          "text": [
            "With k =10 the score is 0.9645\n"
          ]
        }
      ],
      "source": [
        "from sklearn.neighbors import KNeighborsClassifier\n",
        "from sklearn.metrics import accuracy_score, precision_score, recall_score, f1_score, confusion_matrix\n",
        "\n",
        "# Initializing kNN with k=10\n",
        "# n_neighbors: Number of neighbors to use (k=10)\n",
        "# weights: 'uniform' means all points in each neighborhood are weighted equally\n",
        "# algorithm: 'auto' lets the algorithm choose the best method based on input data\n",
        "# leaf_size: Size of the leaf in the tree structure (used in 'ball_tree' or 'kd_tree')\n",
        "k = 10\n",
        "knn_classifier = KNeighborsClassifier(n_neighbors=k,weights='uniform',\n",
        "algorithm = 'auto',leaf_size = 30)\n",
        "\n",
        "# Fitting the classifier on the training data\n",
        "# The model is trained on Bishal_train features and Kharel_train labels\n",
        "knn_classifier.fit(Bishal_train, Kharel_train)\n",
        "\n",
        "# evaluating the model on the validation set:\n",
        "#Scoring the model using Bishal_val features and Kharel_val labels\n",
        "sore =knn_classifier.score(Bishal_val, Kharel_val)\n",
        "print(f'With k ={k} the score is {sore}')\n",
        "\n",
        "\n",
        "\n",
        "\n"
      ]
    },
    {
      "cell_type": "code",
      "source": [
        "# Predicting the labels for the training data using the trained kNN classifier\n",
        "Kharel_train_pred = knn_classifier.predict(Bishal_train)\n",
        "\n",
        "# Comparing the predicted labels with the label '5'\n",
        "# This will create a boolean array where each element is True if the predicted label is '5' and False otherwise\n",
        "Kharel_train_pred_5 = (Kharel_train_pred == '5')"
      ],
      "metadata": {
        "id": "jADX-5RCaFUo"
      },
      "execution_count": 17,
      "outputs": []
    },
    {
      "cell_type": "markdown",
      "source": [],
      "metadata": {
        "id": "hB9-UAVT0Yih"
      }
    },
    {
      "cell_type": "code",
      "execution_count": 18,
      "metadata": {
        "id": "f5937YwhgZht"
      },
      "outputs": [],
      "source": [
        "# Creating boolean arrays for the training labels\n",
        "# Kharel_train_5: True if the label is '5', False otherwise\n",
        "Kharel_train_5 = (Kharel_train == '5')\n",
        "\n",
        "# Creating boolean arrays for the testing labels\n",
        "# Kharel_test_5: True if the label is '5', False otherwise\n",
        "Kharel_test_5 = (Kharel_test == '5')"
      ]
    },
    {
      "cell_type": "code",
      "source": [
        "# Printing the shape of Bishal_train\n",
        "# Bishal_train.shape gives the dimensions of the training features\n",
        "print('Bishal_train.shape:', Bishal_train.shape)\n",
        "\n",
        "# Printing the shape of Kharel_train_5\n",
        "# Kharel_train_5.shape gives the dimensions of the boolean array indicating labels that are '5'\n",
        "print('Kharel_train_5.shape:', Kharel_train_5.shape)\n"
      ],
      "metadata": {
        "colab": {
          "base_uri": "https://localhost:8080/"
        },
        "id": "37IxlsBs_7xH",
        "outputId": "f422226b-2c00-416c-a757-8d717de7bffd"
      },
      "execution_count": 19,
      "outputs": [
        {
          "output_type": "stream",
          "name": "stdout",
          "text": [
            "Bishal_train.shape: (48000, 784)\n",
            "Kharel_train_5.shape: (48000,)\n"
          ]
        }
      ]
    },
    {
      "cell_type": "code",
      "source": [
        "# Printing the first ten boolean values indicating whether the training labels are '5'\n",
        "print(Kharel_train_5[:10])\n"
      ],
      "metadata": {
        "colab": {
          "base_uri": "https://localhost:8080/"
        },
        "id": "ZaXpYPG6_70n",
        "outputId": "c4e32c44-3a09-4d02-dd55-cc83cbf853de"
      },
      "execution_count": 20,
      "outputs": [
        {
          "output_type": "stream",
          "name": "stdout",
          "text": [
            "[False False False False False  True False False False False]\n"
          ]
        }
      ]
    },
    {
      "cell_type": "code",
      "source": [
        "# Importing the necessary function for SGDClassifier\n",
        "from sklearn.linear_model import SGDClassifier\n",
        "\n",
        "# Initializing the SGDClassifier\n",
        "# max_iter: Maximum number of passes over the training data (epochs)\n",
        "# tol: Tolerance for stopping criterion\n",
        "# random_state: Ensures reproducibility using the last two digits of the student ID\n",
        "sgd_clf = SGDClassifier(max_iter=1000, tol=1e-3, random_state=last_two_digits)\n",
        "\n",
        "# Fitting the SGDClassifier on the training data\n",
        "# Bishal_train: Training features\n",
        "# Kharel_train_5: Boolean labels indicating if the label is '5'\n",
        "sgd_clf.fit(Bishal_train, Kharel_train_5)\n",
        "\n",
        "# Printting a message indicating the model has been trained\n",
        "print(\"SGDClassifier has been trained on the training data.\")\n"
      ],
      "metadata": {
        "colab": {
          "base_uri": "https://localhost:8080/"
        },
        "id": "uwVD5O8V_73K",
        "outputId": "54a97184-88e7-43a6-8aa7-6e18b8eeea0a"
      },
      "execution_count": 21,
      "outputs": [
        {
          "output_type": "stream",
          "name": "stdout",
          "text": [
            "SGDClassifier has been trained on the training data.\n"
          ]
        }
      ]
    },
    {
      "cell_type": "code",
      "source": [
        "\n",
        "# Selecting a sample from the dataset (the first digit in this case)\n",
        "some_digit = Bishal[0]\n",
        "\n",
        "# Predicting whether this digit is a '5' using the trained SGD classifier\n",
        "# The prediction will output an array with a single boolean value\n",
        "# True if the classifier predicts the digit is '5', and False otherwise\n",
        "prediction = sgd_clf.predict([some_digit])\n",
        "\n",
        "# Print the prediction result\n",
        "print(prediction)  # Expected Output: array([ True])\n"
      ],
      "metadata": {
        "colab": {
          "base_uri": "https://localhost:8080/"
        },
        "id": "c5a1gSgUGF1C",
        "outputId": "40d37364-cb30-43a8-88fb-81e584db0951"
      },
      "execution_count": 22,
      "outputs": [
        {
          "output_type": "stream",
          "name": "stdout",
          "text": [
            "[ True]\n"
          ]
        }
      ]
    },
    {
      "cell_type": "code",
      "execution_count": 23,
      "metadata": {
        "id": "n1U1aMo4gZkj",
        "colab": {
          "base_uri": "https://localhost:8080/"
        },
        "outputId": "a6396234-570c-4a13-9370-c3c77e563e70"
      },
      "outputs": [
        {
          "output_type": "stream",
          "name": "stdout",
          "text": [
            "5\n"
          ]
        }
      ],
      "source": [
        "print(Kharel[0])"
      ]
    },
    {
      "cell_type": "code",
      "source": [],
      "metadata": {
        "id": "FhBB1aokms8D"
      },
      "execution_count": null,
      "outputs": []
    },
    {
      "cell_type": "code",
      "execution_count": null,
      "metadata": {
        "id": "VOHII80bgZnn",
        "colab": {
          "base_uri": "https://localhost:8080/"
        },
        "outputId": "428efbef-fa1e-4fc2-fd49-7409bd1edca1"
      },
      "outputs": [
        {
          "output_type": "execute_result",
          "data": {
            "text/plain": [
              "array([False])"
            ]
          },
          "metadata": {},
          "execution_count": 13
        }
      ],
      "source": [
        "sgd_clf.predict([Bishal[1]])"
      ]
    },
    {
      "cell_type": "code",
      "execution_count": null,
      "metadata": {
        "id": "vUtlBZq4gZqP",
        "colab": {
          "base_uri": "https://localhost:8080/"
        },
        "outputId": "a974837d-2886-4ba2-9738-1e18f142da36"
      },
      "outputs": [
        {
          "output_type": "stream",
          "name": "stdout",
          "text": [
            "0\n"
          ]
        }
      ],
      "source": [
        "print(Kharel[1])"
      ]
    },
    {
      "cell_type": "markdown",
      "source": [
        "**Confusion Matrix:**"
      ],
      "metadata": {
        "id": "PuKBK1vhINEb"
      }
    },
    {
      "cell_type": "code",
      "execution_count": 24,
      "metadata": {
        "id": "MMBfHzUcgZtL",
        "colab": {
          "base_uri": "https://localhost:8080/"
        },
        "outputId": "22bdf993-fae4-4875-cb01-99b24c7d5dc3"
      },
      "outputs": [
        {
          "output_type": "stream",
          "name": "stdout",
          "text": [
            "Confusion Matrix:\n",
            "[[38196  5477]\n",
            " [  225  4102]]\n"
          ]
        }
      ],
      "source": [
        "# Import the necessary function for confusion matrix\n",
        "from sklearn.metrics import confusion_matrix\n",
        "\n",
        "# Calculating the confusion matrix using the training data\n",
        "# Kharel_train_5: Actual labels for the training data indicating whether the digit is '5'\n",
        "# sgd_clf.predict(Bishal_train): Predicted labels for the training data using the trained SGD classifier\n",
        "# The confusion matrix shows the counts of true negative, false positive, false negative, and true positive predictions\n",
        "conf_matrix = confusion_matrix(Kharel_train_5, sgd_clf.predict(Bishal_train))\n",
        "\n",
        "# Printing the confusion matrix\n",
        "print(\"Confusion Matrix:\")\n",
        "print(conf_matrix)\n"
      ]
    },
    {
      "cell_type": "markdown",
      "source": [
        "**Precision with sklearn**"
      ],
      "metadata": {
        "id": "O7SAxnkuSx8w"
      }
    },
    {
      "cell_type": "code",
      "execution_count": 25,
      "metadata": {
        "id": "m7T3ZyN7gZwV",
        "colab": {
          "base_uri": "https://localhost:8080/"
        },
        "outputId": "bb2c8d9b-43cc-4ca4-d224-daedf6808469"
      },
      "outputs": [
        {
          "output_type": "execute_result",
          "data": {
            "text/plain": [
              "0.9690101757631823"
            ]
          },
          "metadata": {},
          "execution_count": 25
        }
      ],
      "source": [
        "from sklearn.metrics import precision_score, recall_score\n",
        "precision_score(Kharel_train_5, Kharel_train_pred_5)"
      ]
    },
    {
      "cell_type": "code",
      "execution_count": 26,
      "metadata": {
        "id": "M58m2LFlgZzb",
        "colab": {
          "base_uri": "https://localhost:8080/"
        },
        "outputId": "fd282a3a-27ba-4cdb-c5b2-5c75130fb21e"
      },
      "outputs": [
        {
          "output_type": "execute_result",
          "data": {
            "text/plain": [
              "0.9690101757631823"
            ]
          },
          "metadata": {},
          "execution_count": 26
        }
      ],
      "source": [
        "cm = confusion_matrix(Kharel_train_5, Kharel_train_pred_5)\n",
        "cm[1,1]/(cm[0,1]+cm[1,1])"
      ]
    },
    {
      "cell_type": "markdown",
      "source": [
        "**Recall with sklearn**"
      ],
      "metadata": {
        "id": "Msw7s_B6Jabt"
      }
    },
    {
      "cell_type": "code",
      "execution_count": 27,
      "metadata": {
        "id": "9rk-yEEZgZ21",
        "colab": {
          "base_uri": "https://localhost:8080/"
        },
        "outputId": "a54ffc51-2fd1-47bd-a58f-d8f1758d28ff"
      },
      "outputs": [
        {
          "output_type": "execute_result",
          "data": {
            "text/plain": [
              "0.9683383406517218"
            ]
          },
          "metadata": {},
          "execution_count": 27
        }
      ],
      "source": [
        "# Calculating recall score using scikit-learn function\n",
        "recall_score(Kharel_train_5, Kharel_train_pred_5)\n",
        "\n",
        "# Calculating recall score manually using confusion matrix\n",
        "cm[1,1]/(cm[1,0]+cm[1,1])\n"
      ]
    },
    {
      "cell_type": "code",
      "execution_count": null,
      "metadata": {
        "id": "pLw2scpLgZ5P",
        "colab": {
          "base_uri": "https://localhost:8080/"
        },
        "outputId": "42519b4e-4ac1-4407-a730-9ec2d28b2330"
      },
      "outputs": [
        {
          "output_type": "execute_result",
          "data": {
            "text/plain": [
              "0.9683383406517218"
            ]
          },
          "metadata": {},
          "execution_count": 19
        }
      ],
      "source": []
    },
    {
      "cell_type": "markdown",
      "source": [
        "**F1 Score**"
      ],
      "metadata": {
        "id": "LIuibXVYKkVJ"
      }
    },
    {
      "cell_type": "code",
      "source": [],
      "metadata": {
        "id": "n50SZGp8pvtx"
      },
      "execution_count": null,
      "outputs": []
    },
    {
      "cell_type": "code",
      "execution_count": 28,
      "metadata": {
        "id": "Y_UwGHz9gZ7z",
        "colab": {
          "base_uri": "https://localhost:8080/"
        },
        "outputId": "f0dea381-a120-4b95-997e-cbd18b351a76"
      },
      "outputs": [
        {
          "output_type": "execute_result",
          "data": {
            "text/plain": [
              "0.9686741417177206"
            ]
          },
          "metadata": {},
          "execution_count": 28
        }
      ],
      "source": [
        "from sklearn.metrics import f1_score\n",
        "f1_score(Kharel_train_5, Kharel_train_pred_5)"
      ]
    },
    {
      "cell_type": "code",
      "execution_count": null,
      "metadata": {
        "id": "f8brvFNRgZ_N"
      },
      "outputs": [],
      "source": []
    },
    {
      "cell_type": "code",
      "execution_count": 29,
      "metadata": {
        "id": "mT5SQXJmgaB8",
        "colab": {
          "base_uri": "https://localhost:8080/"
        },
        "outputId": "e2e7bcd4-c35b-43ee-b06a-eb0bca7192d5"
      },
      "outputs": [
        {
          "output_type": "stream",
          "name": "stdout",
          "text": [
            "With nearest neighbor 1, accuracy is 0.9705\n",
            "              precision    recall  f1-score   support\n",
            "\n",
            "           0       0.98      0.99      0.99       908\n",
            "           1       0.97      0.99      0.98      1153\n",
            "           2       0.98      0.96      0.97      1011\n",
            "           3       0.96      0.96      0.96      1044\n",
            "           4       0.97      0.97      0.97       963\n",
            "           5       0.97      0.97      0.97       937\n",
            "           6       0.98      0.99      0.99      1013\n",
            "           7       0.96      0.97      0.96      1045\n",
            "           8       0.98      0.93      0.96       975\n",
            "           9       0.94      0.96      0.95       951\n",
            "\n",
            "    accuracy                           0.97     10000\n",
            "   macro avg       0.97      0.97      0.97     10000\n",
            "weighted avg       0.97      0.97      0.97     10000\n",
            "\n",
            "With nearest neighbor 4, accuracy is 0.968\n",
            "              precision    recall  f1-score   support\n",
            "\n",
            "           0       0.97      0.99      0.98       908\n",
            "           1       0.96      0.99      0.97      1153\n",
            "           2       0.98      0.96      0.97      1011\n",
            "           3       0.97      0.97      0.97      1044\n",
            "           4       0.97      0.98      0.97       963\n",
            "           5       0.96      0.97      0.97       937\n",
            "           6       0.98      0.99      0.98      1013\n",
            "           7       0.96      0.97      0.96      1045\n",
            "           8       0.99      0.91      0.95       975\n",
            "           9       0.96      0.95      0.95       951\n",
            "\n",
            "    accuracy                           0.97     10000\n",
            "   macro avg       0.97      0.97      0.97     10000\n",
            "weighted avg       0.97      0.97      0.97     10000\n",
            "\n",
            "With nearest neighbor 7, accuracy is 0.9665\n",
            "              precision    recall  f1-score   support\n",
            "\n",
            "           0       0.98      0.99      0.98       908\n",
            "           1       0.96      0.99      0.97      1153\n",
            "           2       0.98      0.95      0.97      1011\n",
            "           3       0.98      0.96      0.97      1044\n",
            "           4       0.97      0.97      0.97       963\n",
            "           5       0.97      0.98      0.97       937\n",
            "           6       0.98      0.99      0.98      1013\n",
            "           7       0.95      0.97      0.96      1045\n",
            "           8       0.99      0.92      0.95       975\n",
            "           9       0.95      0.96      0.96       951\n",
            "\n",
            "    accuracy                           0.97     10000\n",
            "   macro avg       0.97      0.97      0.97     10000\n",
            "weighted avg       0.97      0.97      0.97     10000\n",
            "\n",
            "With nearest neighbor 10, accuracy is 0.9645\n",
            "              precision    recall  f1-score   support\n",
            "\n",
            "           0       0.97      0.99      0.98       908\n",
            "           1       0.95      0.99      0.97      1153\n",
            "           2       0.98      0.94      0.96      1011\n",
            "           3       0.97      0.96      0.96      1044\n",
            "           4       0.97      0.97      0.97       963\n",
            "           5       0.97      0.97      0.97       937\n",
            "           6       0.98      0.99      0.98      1013\n",
            "           7       0.95      0.97      0.96      1045\n",
            "           8       0.98      0.91      0.95       975\n",
            "           9       0.95      0.95      0.95       951\n",
            "\n",
            "    accuracy                           0.97     10000\n",
            "   macro avg       0.97      0.96      0.97     10000\n",
            "weighted avg       0.97      0.97      0.97     10000\n",
            "\n",
            "With nearest neighbor 13, accuracy is 0.9635\n",
            "              precision    recall  f1-score   support\n",
            "\n",
            "           0       0.98      0.99      0.98       908\n",
            "           1       0.94      0.99      0.97      1153\n",
            "           2       0.98      0.94      0.96      1011\n",
            "           3       0.97      0.96      0.96      1044\n",
            "           4       0.97      0.96      0.97       963\n",
            "           5       0.96      0.97      0.97       937\n",
            "           6       0.97      0.99      0.98      1013\n",
            "           7       0.94      0.96      0.95      1045\n",
            "           8       0.98      0.90      0.94       975\n",
            "           9       0.93      0.96      0.94       951\n",
            "\n",
            "    accuracy                           0.96     10000\n",
            "   macro avg       0.96      0.96      0.96     10000\n",
            "weighted avg       0.96      0.96      0.96     10000\n",
            "\n",
            "With nearest neighbor 16, accuracy is 0.962\n",
            "              precision    recall  f1-score   support\n",
            "\n",
            "           0       0.97      0.99      0.98       908\n",
            "           1       0.94      0.99      0.96      1153\n",
            "           2       0.98      0.93      0.96      1011\n",
            "           3       0.97      0.96      0.96      1044\n",
            "           4       0.97      0.97      0.97       963\n",
            "           5       0.96      0.97      0.96       937\n",
            "           6       0.97      0.99      0.98      1013\n",
            "           7       0.94      0.96      0.95      1045\n",
            "           8       0.98      0.90      0.94       975\n",
            "           9       0.93      0.95      0.94       951\n",
            "\n",
            "    accuracy                           0.96     10000\n",
            "   macro avg       0.96      0.96      0.96     10000\n",
            "weighted avg       0.96      0.96      0.96     10000\n",
            "\n",
            "With nearest neighbor 19, accuracy is 0.9603333333333334\n",
            "              precision    recall  f1-score   support\n",
            "\n",
            "           0       0.97      0.99      0.98       908\n",
            "           1       0.93      0.99      0.96      1153\n",
            "           2       0.98      0.93      0.96      1011\n",
            "           3       0.97      0.96      0.96      1044\n",
            "           4       0.97      0.96      0.96       963\n",
            "           5       0.96      0.96      0.96       937\n",
            "           6       0.97      0.99      0.98      1013\n",
            "           7       0.94      0.96      0.95      1045\n",
            "           8       0.98      0.89      0.93       975\n",
            "           9       0.92      0.95      0.93       951\n",
            "\n",
            "    accuracy                           0.96     10000\n",
            "   macro avg       0.96      0.96      0.96     10000\n",
            "weighted avg       0.96      0.96      0.96     10000\n",
            "\n"
          ]
        }
      ],
      "source": [
        "from sklearn.metrics import classification_report\n",
        "import numpy as np  # Import numpy library for array operations\n",
        "\n",
        "# Defining a range of k values from 1 to 21 with a step size of 3\n",
        "Kvals = np.arange(1, 22, 3)\n",
        "\n",
        "# Looping over each k value\n",
        "for k in Kvals:\n",
        "    # Initializing kNN classifier with the current k value\n",
        "    knn_classifier = KNeighborsClassifier(n_neighbors=k)\n",
        "\n",
        "    # Fitting the classifier on the training data\n",
        "    knn_classifier.fit(Bishal_train, Kharel_train)\n",
        "\n",
        "    # Evaluatting the model on the validation set and compute accuracy\n",
        "    score = knn_classifier.score(Bishal_val, Kharel_val)\n",
        "\n",
        "    # Making predictions on the test set\n",
        "    predictions = knn_classifier.predict(Bishal_test)\n",
        "\n",
        "    # Printing the accuracy for the current k value\n",
        "    print(f'With nearest neighbor {k}, accuracy is {score}')\n",
        "\n",
        "    # Printing the classification report, which includes precision, recall, F1-score, and support\n",
        "    # The classification report provides a detailed summary of the model's performance for each class\n",
        "    print(classification_report(Kharel_test, predictions))\n"
      ]
    },
    {
      "cell_type": "code",
      "source": [],
      "metadata": {
        "id": "cVWRJFZoo15e"
      },
      "execution_count": null,
      "outputs": []
    },
    {
      "cell_type": "code",
      "execution_count": 30,
      "metadata": {
        "id": "W8xCIlqggaFE",
        "colab": {
          "base_uri": "https://localhost:8080/",
          "height": 74
        },
        "outputId": "2bcb934b-0282-466d-facd-8cdb5e8d09be"
      },
      "outputs": [
        {
          "output_type": "execute_result",
          "data": {
            "text/plain": [
              "SVC()"
            ],
            "text/html": [
              "<style>#sk-container-id-1 {color: black;background-color: white;}#sk-container-id-1 pre{padding: 0;}#sk-container-id-1 div.sk-toggleable {background-color: white;}#sk-container-id-1 label.sk-toggleable__label {cursor: pointer;display: block;width: 100%;margin-bottom: 0;padding: 0.3em;box-sizing: border-box;text-align: center;}#sk-container-id-1 label.sk-toggleable__label-arrow:before {content: \"▸\";float: left;margin-right: 0.25em;color: #696969;}#sk-container-id-1 label.sk-toggleable__label-arrow:hover:before {color: black;}#sk-container-id-1 div.sk-estimator:hover label.sk-toggleable__label-arrow:before {color: black;}#sk-container-id-1 div.sk-toggleable__content {max-height: 0;max-width: 0;overflow: hidden;text-align: left;background-color: #f0f8ff;}#sk-container-id-1 div.sk-toggleable__content pre {margin: 0.2em;color: black;border-radius: 0.25em;background-color: #f0f8ff;}#sk-container-id-1 input.sk-toggleable__control:checked~div.sk-toggleable__content {max-height: 200px;max-width: 100%;overflow: auto;}#sk-container-id-1 input.sk-toggleable__control:checked~label.sk-toggleable__label-arrow:before {content: \"▾\";}#sk-container-id-1 div.sk-estimator input.sk-toggleable__control:checked~label.sk-toggleable__label {background-color: #d4ebff;}#sk-container-id-1 div.sk-label input.sk-toggleable__control:checked~label.sk-toggleable__label {background-color: #d4ebff;}#sk-container-id-1 input.sk-hidden--visually {border: 0;clip: rect(1px 1px 1px 1px);clip: rect(1px, 1px, 1px, 1px);height: 1px;margin: -1px;overflow: hidden;padding: 0;position: absolute;width: 1px;}#sk-container-id-1 div.sk-estimator {font-family: monospace;background-color: #f0f8ff;border: 1px dotted black;border-radius: 0.25em;box-sizing: border-box;margin-bottom: 0.5em;}#sk-container-id-1 div.sk-estimator:hover {background-color: #d4ebff;}#sk-container-id-1 div.sk-parallel-item::after {content: \"\";width: 100%;border-bottom: 1px solid gray;flex-grow: 1;}#sk-container-id-1 div.sk-label:hover label.sk-toggleable__label {background-color: #d4ebff;}#sk-container-id-1 div.sk-serial::before {content: \"\";position: absolute;border-left: 1px solid gray;box-sizing: border-box;top: 0;bottom: 0;left: 50%;z-index: 0;}#sk-container-id-1 div.sk-serial {display: flex;flex-direction: column;align-items: center;background-color: white;padding-right: 0.2em;padding-left: 0.2em;position: relative;}#sk-container-id-1 div.sk-item {position: relative;z-index: 1;}#sk-container-id-1 div.sk-parallel {display: flex;align-items: stretch;justify-content: center;background-color: white;position: relative;}#sk-container-id-1 div.sk-item::before, #sk-container-id-1 div.sk-parallel-item::before {content: \"\";position: absolute;border-left: 1px solid gray;box-sizing: border-box;top: 0;bottom: 0;left: 50%;z-index: -1;}#sk-container-id-1 div.sk-parallel-item {display: flex;flex-direction: column;z-index: 1;position: relative;background-color: white;}#sk-container-id-1 div.sk-parallel-item:first-child::after {align-self: flex-end;width: 50%;}#sk-container-id-1 div.sk-parallel-item:last-child::after {align-self: flex-start;width: 50%;}#sk-container-id-1 div.sk-parallel-item:only-child::after {width: 0;}#sk-container-id-1 div.sk-dashed-wrapped {border: 1px dashed gray;margin: 0 0.4em 0.5em 0.4em;box-sizing: border-box;padding-bottom: 0.4em;background-color: white;}#sk-container-id-1 div.sk-label label {font-family: monospace;font-weight: bold;display: inline-block;line-height: 1.2em;}#sk-container-id-1 div.sk-label-container {text-align: center;}#sk-container-id-1 div.sk-container {/* jupyter's `normalize.less` sets `[hidden] { display: none; }` but bootstrap.min.css set `[hidden] { display: none !important; }` so we also need the `!important` here to be able to override the default hidden behavior on the sphinx rendered scikit-learn.org. See: https://github.com/scikit-learn/scikit-learn/issues/21755 */display: inline-block !important;position: relative;}#sk-container-id-1 div.sk-text-repr-fallback {display: none;}</style><div id=\"sk-container-id-1\" class=\"sk-top-container\"><div class=\"sk-text-repr-fallback\"><pre>SVC()</pre><b>In a Jupyter environment, please rerun this cell to show the HTML representation or trust the notebook. <br />On GitHub, the HTML representation is unable to render, please try loading this page with nbviewer.org.</b></div><div class=\"sk-container\" hidden><div class=\"sk-item\"><div class=\"sk-estimator sk-toggleable\"><input class=\"sk-toggleable__control sk-hidden--visually\" id=\"sk-estimator-id-1\" type=\"checkbox\" checked><label for=\"sk-estimator-id-1\" class=\"sk-toggleable__label sk-toggleable__label-arrow\">SVC</label><div class=\"sk-toggleable__content\"><pre>SVC()</pre></div></div></div></div></div>"
            ]
          },
          "metadata": {},
          "execution_count": 30
        }
      ],
      "source": [
        "from sklearn.svm import SVC\n",
        "from sklearn.metrics import classification_report, confusion_matrix, accuracy_score\n",
        "\n",
        "# Initialize the SVM classifier with default parameters\n",
        "svm_classifier = SVC(C=1.0, kernel='rbf', gamma='scale')\n",
        "\n",
        "# Train the SVM classifier on the training data\n",
        "svm_classifier.fit(Bishal_train, Kharel_train)\n",
        "\n"
      ]
    },
    {
      "cell_type": "markdown",
      "source": [
        "**3. SVM Classifier**\n",
        "\n",
        "a. Apply an appropriate SVM classifier. Detail the function parameters and their meanings"
      ],
      "metadata": {
        "id": "zO-OZqxWb0WD"
      }
    },
    {
      "cell_type": "code",
      "execution_count": 31,
      "metadata": {
        "id": "wDMH0FDVgaIE",
        "colab": {
          "base_uri": "https://localhost:8080/"
        },
        "outputId": "165021cd-91a3-4331-ad78-191e97626065"
      },
      "outputs": [
        {
          "output_type": "stream",
          "name": "stdout",
          "text": [
            "Accuracy: 0.9762\n",
            "Classification Report:\n",
            "              precision    recall  f1-score   support\n",
            "\n",
            "           0       0.99      0.99      0.99       908\n",
            "           1       0.99      0.99      0.99      1153\n",
            "           2       0.96      0.98      0.97      1011\n",
            "           3       0.98      0.96      0.97      1044\n",
            "           4       0.97      0.98      0.97       963\n",
            "           5       0.98      0.99      0.98       937\n",
            "           6       0.99      0.99      0.99      1013\n",
            "           7       0.97      0.98      0.97      1045\n",
            "           8       0.97      0.96      0.96       975\n",
            "           9       0.96      0.95      0.96       951\n",
            "\n",
            "    accuracy                           0.98     10000\n",
            "   macro avg       0.98      0.98      0.98     10000\n",
            "weighted avg       0.98      0.98      0.98     10000\n",
            "\n",
            "Confusion Matrix:\n",
            "[[ 898    0    1    0    2    2    3    0    0    2]\n",
            " [   0 1138    5    1    1    0    0    4    1    3]\n",
            " [   2    1  992    3    1    0    3    3    5    1]\n",
            " [   0    2    7 1006    0    7    0    8   11    3]\n",
            " [   2    1    6    0  939    0    2    2    0   11]\n",
            " [   0    0    1    3    1  923    2    0    3    4]\n",
            " [   3    0    4    0    0    3  999    0    4    0]\n",
            " [   1    0    8    1    5    0    0 1021    3    6]\n",
            " [   2    3    4    7    3    8    2    4  938    4]\n",
            " [   2    0    2    6   19    1    0    8    5  908]]\n"
          ]
        }
      ],
      "source": [
        "from sklearn.svm import SVC\n",
        "from sklearn.metrics import classification_report, confusion_matrix, accuracy_score\n",
        "\n",
        "# Initializing the SVM classifier with default parameters\n",
        "svm_classifier = SVC(C=1.0, kernel='rbf', gamma='scale')\n",
        "\n",
        "# Training the SVM classifier on the training data\n",
        "svm_classifier.fit(Bishal_train, Kharel_train)\n",
        "\n",
        "# Predicting the labels for the test set\n",
        "y_pred = svm_classifier.predict(Bishal_test)\n",
        "\n",
        "# Calculating accuracy\n",
        "accuracy = accuracy_score(Kharel_test, y_pred)\n",
        "\n",
        "# Generating a classification report\n",
        "class_report = classification_report(Kharel_test, y_pred)\n",
        "\n",
        "# Generating a confusion matrix\n",
        "conf_matrix = confusion_matrix(Kharel_test, y_pred)\n",
        "\n",
        "# Printing the evaluation metrics\n",
        "print(f\"Accuracy: {accuracy}\")\n",
        "print(\"Classification Report:\")\n",
        "print(class_report)\n",
        "print(\"Confusion Matrix:\")\n",
        "print(conf_matrix)\n",
        "\n",
        "\n"
      ]
    },
    {
      "cell_type": "code",
      "execution_count": null,
      "metadata": {
        "id": "lOy60RsIgaLd",
        "colab": {
          "base_uri": "https://localhost:8080/",
          "height": 75
        },
        "outputId": "4264d270-71af-4420-958c-8f87cdefa307"
      },
      "outputs": [
        {
          "output_type": "execute_result",
          "data": {
            "text/plain": [
              "SVC()"
            ],
            "text/html": [
              "<style>#sk-container-id-2 {color: black;background-color: white;}#sk-container-id-2 pre{padding: 0;}#sk-container-id-2 div.sk-toggleable {background-color: white;}#sk-container-id-2 label.sk-toggleable__label {cursor: pointer;display: block;width: 100%;margin-bottom: 0;padding: 0.3em;box-sizing: border-box;text-align: center;}#sk-container-id-2 label.sk-toggleable__label-arrow:before {content: \"▸\";float: left;margin-right: 0.25em;color: #696969;}#sk-container-id-2 label.sk-toggleable__label-arrow:hover:before {color: black;}#sk-container-id-2 div.sk-estimator:hover label.sk-toggleable__label-arrow:before {color: black;}#sk-container-id-2 div.sk-toggleable__content {max-height: 0;max-width: 0;overflow: hidden;text-align: left;background-color: #f0f8ff;}#sk-container-id-2 div.sk-toggleable__content pre {margin: 0.2em;color: black;border-radius: 0.25em;background-color: #f0f8ff;}#sk-container-id-2 input.sk-toggleable__control:checked~div.sk-toggleable__content {max-height: 200px;max-width: 100%;overflow: auto;}#sk-container-id-2 input.sk-toggleable__control:checked~label.sk-toggleable__label-arrow:before {content: \"▾\";}#sk-container-id-2 div.sk-estimator input.sk-toggleable__control:checked~label.sk-toggleable__label {background-color: #d4ebff;}#sk-container-id-2 div.sk-label input.sk-toggleable__control:checked~label.sk-toggleable__label {background-color: #d4ebff;}#sk-container-id-2 input.sk-hidden--visually {border: 0;clip: rect(1px 1px 1px 1px);clip: rect(1px, 1px, 1px, 1px);height: 1px;margin: -1px;overflow: hidden;padding: 0;position: absolute;width: 1px;}#sk-container-id-2 div.sk-estimator {font-family: monospace;background-color: #f0f8ff;border: 1px dotted black;border-radius: 0.25em;box-sizing: border-box;margin-bottom: 0.5em;}#sk-container-id-2 div.sk-estimator:hover {background-color: #d4ebff;}#sk-container-id-2 div.sk-parallel-item::after {content: \"\";width: 100%;border-bottom: 1px solid gray;flex-grow: 1;}#sk-container-id-2 div.sk-label:hover label.sk-toggleable__label {background-color: #d4ebff;}#sk-container-id-2 div.sk-serial::before {content: \"\";position: absolute;border-left: 1px solid gray;box-sizing: border-box;top: 0;bottom: 0;left: 50%;z-index: 0;}#sk-container-id-2 div.sk-serial {display: flex;flex-direction: column;align-items: center;background-color: white;padding-right: 0.2em;padding-left: 0.2em;position: relative;}#sk-container-id-2 div.sk-item {position: relative;z-index: 1;}#sk-container-id-2 div.sk-parallel {display: flex;align-items: stretch;justify-content: center;background-color: white;position: relative;}#sk-container-id-2 div.sk-item::before, #sk-container-id-2 div.sk-parallel-item::before {content: \"\";position: absolute;border-left: 1px solid gray;box-sizing: border-box;top: 0;bottom: 0;left: 50%;z-index: -1;}#sk-container-id-2 div.sk-parallel-item {display: flex;flex-direction: column;z-index: 1;position: relative;background-color: white;}#sk-container-id-2 div.sk-parallel-item:first-child::after {align-self: flex-end;width: 50%;}#sk-container-id-2 div.sk-parallel-item:last-child::after {align-self: flex-start;width: 50%;}#sk-container-id-2 div.sk-parallel-item:only-child::after {width: 0;}#sk-container-id-2 div.sk-dashed-wrapped {border: 1px dashed gray;margin: 0 0.4em 0.5em 0.4em;box-sizing: border-box;padding-bottom: 0.4em;background-color: white;}#sk-container-id-2 div.sk-label label {font-family: monospace;font-weight: bold;display: inline-block;line-height: 1.2em;}#sk-container-id-2 div.sk-label-container {text-align: center;}#sk-container-id-2 div.sk-container {/* jupyter's `normalize.less` sets `[hidden] { display: none; }` but bootstrap.min.css set `[hidden] { display: none !important; }` so we also need the `!important` here to be able to override the default hidden behavior on the sphinx rendered scikit-learn.org. See: https://github.com/scikit-learn/scikit-learn/issues/21755 */display: inline-block !important;position: relative;}#sk-container-id-2 div.sk-text-repr-fallback {display: none;}</style><div id=\"sk-container-id-2\" class=\"sk-top-container\"><div class=\"sk-text-repr-fallback\"><pre>SVC()</pre><b>In a Jupyter environment, please rerun this cell to show the HTML representation or trust the notebook. <br />On GitHub, the HTML representation is unable to render, please try loading this page with nbviewer.org.</b></div><div class=\"sk-container\" hidden><div class=\"sk-item\"><div class=\"sk-estimator sk-toggleable\"><input class=\"sk-toggleable__control sk-hidden--visually\" id=\"sk-estimator-id-2\" type=\"checkbox\" checked><label for=\"sk-estimator-id-2\" class=\"sk-toggleable__label sk-toggleable__label-arrow\">SVC</label><div class=\"sk-toggleable__content\"><pre>SVC()</pre></div></div></div></div></div>"
            ]
          },
          "metadata": {},
          "execution_count": 23
        }
      ],
      "source": []
    },
    {
      "cell_type": "code",
      "execution_count": 32,
      "metadata": {
        "id": "9yFmZesegaN5",
        "colab": {
          "base_uri": "https://localhost:8080/"
        },
        "outputId": "dccef7a2-b937-488f-ba30-434dc2f1104e"
      },
      "outputs": [
        {
          "output_type": "stream",
          "name": "stdout",
          "text": [
            "Accuracy: 0.9762\n",
            "Classification Report:\n",
            "              precision    recall  f1-score   support\n",
            "\n",
            "           0       0.99      0.99      0.99       908\n",
            "           1       0.99      0.99      0.99      1153\n",
            "           2       0.96      0.98      0.97      1011\n",
            "           3       0.98      0.96      0.97      1044\n",
            "           4       0.97      0.98      0.97       963\n",
            "           5       0.98      0.99      0.98       937\n",
            "           6       0.99      0.99      0.99      1013\n",
            "           7       0.97      0.98      0.97      1045\n",
            "           8       0.97      0.96      0.96       975\n",
            "           9       0.96      0.95      0.96       951\n",
            "\n",
            "    accuracy                           0.98     10000\n",
            "   macro avg       0.98      0.98      0.98     10000\n",
            "weighted avg       0.98      0.98      0.98     10000\n",
            "\n",
            "Confusion Matrix:\n",
            "[[ 898    0    1    0    2    2    3    0    0    2]\n",
            " [   0 1138    5    1    1    0    0    4    1    3]\n",
            " [   2    1  992    3    1    0    3    3    5    1]\n",
            " [   0    2    7 1006    0    7    0    8   11    3]\n",
            " [   2    1    6    0  939    0    2    2    0   11]\n",
            " [   0    0    1    3    1  923    2    0    3    4]\n",
            " [   3    0    4    0    0    3  999    0    4    0]\n",
            " [   1    0    8    1    5    0    0 1021    3    6]\n",
            " [   2    3    4    7    3    8    2    4  938    4]\n",
            " [   2    0    2    6   19    1    0    8    5  908]]\n"
          ]
        }
      ],
      "source": [
        "# Predict the labels for the test set\n",
        "y_pred = svm_classifier.predict(Bishal_test)\n",
        "\n",
        "# Calculate accuracy\n",
        "accuracy = accuracy_score(Kharel_test, y_pred)\n",
        "\n",
        "# Generate a classification report\n",
        "class_report = classification_report(Kharel_test, y_pred)\n",
        "\n",
        "# Generate a confusion matrix\n",
        "conf_matrix = confusion_matrix(Kharel_test, y_pred)\n",
        "\n",
        "# Print the evaluation metrics\n",
        "print(f\"Accuracy: {accuracy}\")\n",
        "print(\"Classification Report:\")\n",
        "print(class_report)\n",
        "print(\"Confusion Matrix:\")\n",
        "print(conf_matrix)\n"
      ]
    },
    {
      "cell_type": "code",
      "execution_count": null,
      "metadata": {
        "id": "vo3QHs_ZgaRs"
      },
      "outputs": [],
      "source": []
    },
    {
      "cell_type": "markdown",
      "source": [
        "**Neural Network Classification and Data Ethics**\n",
        "\n",
        "a. Implement on the MNIST dataset a Neural Network for classification using an appropriate framework like TensorFlow or PyTorch.\n",
        "\n",
        "b. Discuss the choice of hyperparameters, and training process.\n",
        "\n",
        "c. Discuss potential biases that can occur in data and model predictions."
      ],
      "metadata": {
        "id": "Tr5LeNqPmXZm"
      }
    },
    {
      "cell_type": "code",
      "source": [
        "!pip install tensorflow"
      ],
      "metadata": {
        "colab": {
          "base_uri": "https://localhost:8080/"
        },
        "id": "BhNeT5U6814J",
        "outputId": "af4eb07b-bd55-45b0-9bc1-70f1a2e053e5"
      },
      "execution_count": 33,
      "outputs": [
        {
          "output_type": "stream",
          "name": "stdout",
          "text": [
            "Requirement already satisfied: tensorflow in /usr/local/lib/python3.10/dist-packages (2.15.0)\n",
            "Requirement already satisfied: absl-py>=1.0.0 in /usr/local/lib/python3.10/dist-packages (from tensorflow) (1.4.0)\n",
            "Requirement already satisfied: astunparse>=1.6.0 in /usr/local/lib/python3.10/dist-packages (from tensorflow) (1.6.3)\n",
            "Requirement already satisfied: flatbuffers>=23.5.26 in /usr/local/lib/python3.10/dist-packages (from tensorflow) (24.3.25)\n",
            "Requirement already satisfied: gast!=0.5.0,!=0.5.1,!=0.5.2,>=0.2.1 in /usr/local/lib/python3.10/dist-packages (from tensorflow) (0.5.4)\n",
            "Requirement already satisfied: google-pasta>=0.1.1 in /usr/local/lib/python3.10/dist-packages (from tensorflow) (0.2.0)\n",
            "Requirement already satisfied: h5py>=2.9.0 in /usr/local/lib/python3.10/dist-packages (from tensorflow) (3.9.0)\n",
            "Requirement already satisfied: libclang>=13.0.0 in /usr/local/lib/python3.10/dist-packages (from tensorflow) (18.1.1)\n",
            "Requirement already satisfied: ml-dtypes~=0.2.0 in /usr/local/lib/python3.10/dist-packages (from tensorflow) (0.2.0)\n",
            "Requirement already satisfied: numpy<2.0.0,>=1.23.5 in /usr/local/lib/python3.10/dist-packages (from tensorflow) (1.25.2)\n",
            "Requirement already satisfied: opt-einsum>=2.3.2 in /usr/local/lib/python3.10/dist-packages (from tensorflow) (3.3.0)\n",
            "Requirement already satisfied: packaging in /usr/local/lib/python3.10/dist-packages (from tensorflow) (24.0)\n",
            "Requirement already satisfied: protobuf!=4.21.0,!=4.21.1,!=4.21.2,!=4.21.3,!=4.21.4,!=4.21.5,<5.0.0dev,>=3.20.3 in /usr/local/lib/python3.10/dist-packages (from tensorflow) (3.20.3)\n",
            "Requirement already satisfied: setuptools in /usr/local/lib/python3.10/dist-packages (from tensorflow) (67.7.2)\n",
            "Requirement already satisfied: six>=1.12.0 in /usr/local/lib/python3.10/dist-packages (from tensorflow) (1.16.0)\n",
            "Requirement already satisfied: termcolor>=1.1.0 in /usr/local/lib/python3.10/dist-packages (from tensorflow) (2.4.0)\n",
            "Requirement already satisfied: typing-extensions>=3.6.6 in /usr/local/lib/python3.10/dist-packages (from tensorflow) (4.11.0)\n",
            "Requirement already satisfied: wrapt<1.15,>=1.11.0 in /usr/local/lib/python3.10/dist-packages (from tensorflow) (1.14.1)\n",
            "Requirement already satisfied: tensorflow-io-gcs-filesystem>=0.23.1 in /usr/local/lib/python3.10/dist-packages (from tensorflow) (0.37.0)\n",
            "Requirement already satisfied: grpcio<2.0,>=1.24.3 in /usr/local/lib/python3.10/dist-packages (from tensorflow) (1.64.0)\n",
            "Requirement already satisfied: tensorboard<2.16,>=2.15 in /usr/local/lib/python3.10/dist-packages (from tensorflow) (2.15.2)\n",
            "Requirement already satisfied: tensorflow-estimator<2.16,>=2.15.0 in /usr/local/lib/python3.10/dist-packages (from tensorflow) (2.15.0)\n",
            "Requirement already satisfied: keras<2.16,>=2.15.0 in /usr/local/lib/python3.10/dist-packages (from tensorflow) (2.15.0)\n",
            "Requirement already satisfied: wheel<1.0,>=0.23.0 in /usr/local/lib/python3.10/dist-packages (from astunparse>=1.6.0->tensorflow) (0.43.0)\n",
            "Requirement already satisfied: google-auth<3,>=1.6.3 in /usr/local/lib/python3.10/dist-packages (from tensorboard<2.16,>=2.15->tensorflow) (2.27.0)\n",
            "Requirement already satisfied: google-auth-oauthlib<2,>=0.5 in /usr/local/lib/python3.10/dist-packages (from tensorboard<2.16,>=2.15->tensorflow) (1.2.0)\n",
            "Requirement already satisfied: markdown>=2.6.8 in /usr/local/lib/python3.10/dist-packages (from tensorboard<2.16,>=2.15->tensorflow) (3.6)\n",
            "Requirement already satisfied: requests<3,>=2.21.0 in /usr/local/lib/python3.10/dist-packages (from tensorboard<2.16,>=2.15->tensorflow) (2.31.0)\n",
            "Requirement already satisfied: tensorboard-data-server<0.8.0,>=0.7.0 in /usr/local/lib/python3.10/dist-packages (from tensorboard<2.16,>=2.15->tensorflow) (0.7.2)\n",
            "Requirement already satisfied: werkzeug>=1.0.1 in /usr/local/lib/python3.10/dist-packages (from tensorboard<2.16,>=2.15->tensorflow) (3.0.3)\n",
            "Requirement already satisfied: cachetools<6.0,>=2.0.0 in /usr/local/lib/python3.10/dist-packages (from google-auth<3,>=1.6.3->tensorboard<2.16,>=2.15->tensorflow) (5.3.3)\n",
            "Requirement already satisfied: pyasn1-modules>=0.2.1 in /usr/local/lib/python3.10/dist-packages (from google-auth<3,>=1.6.3->tensorboard<2.16,>=2.15->tensorflow) (0.4.0)\n",
            "Requirement already satisfied: rsa<5,>=3.1.4 in /usr/local/lib/python3.10/dist-packages (from google-auth<3,>=1.6.3->tensorboard<2.16,>=2.15->tensorflow) (4.9)\n",
            "Requirement already satisfied: requests-oauthlib>=0.7.0 in /usr/local/lib/python3.10/dist-packages (from google-auth-oauthlib<2,>=0.5->tensorboard<2.16,>=2.15->tensorflow) (1.3.1)\n",
            "Requirement already satisfied: charset-normalizer<4,>=2 in /usr/local/lib/python3.10/dist-packages (from requests<3,>=2.21.0->tensorboard<2.16,>=2.15->tensorflow) (3.3.2)\n",
            "Requirement already satisfied: idna<4,>=2.5 in /usr/local/lib/python3.10/dist-packages (from requests<3,>=2.21.0->tensorboard<2.16,>=2.15->tensorflow) (3.7)\n",
            "Requirement already satisfied: urllib3<3,>=1.21.1 in /usr/local/lib/python3.10/dist-packages (from requests<3,>=2.21.0->tensorboard<2.16,>=2.15->tensorflow) (2.0.7)\n",
            "Requirement already satisfied: certifi>=2017.4.17 in /usr/local/lib/python3.10/dist-packages (from requests<3,>=2.21.0->tensorboard<2.16,>=2.15->tensorflow) (2024.2.2)\n",
            "Requirement already satisfied: MarkupSafe>=2.1.1 in /usr/local/lib/python3.10/dist-packages (from werkzeug>=1.0.1->tensorboard<2.16,>=2.15->tensorflow) (2.1.5)\n",
            "Requirement already satisfied: pyasn1<0.7.0,>=0.4.6 in /usr/local/lib/python3.10/dist-packages (from pyasn1-modules>=0.2.1->google-auth<3,>=1.6.3->tensorboard<2.16,>=2.15->tensorflow) (0.6.0)\n",
            "Requirement already satisfied: oauthlib>=3.0.0 in /usr/local/lib/python3.10/dist-packages (from requests-oauthlib>=0.7.0->google-auth-oauthlib<2,>=0.5->tensorboard<2.16,>=2.15->tensorflow) (3.2.2)\n"
          ]
        }
      ]
    },
    {
      "cell_type": "code",
      "source": [],
      "metadata": {
        "id": "zU2Q4yup77kv"
      },
      "execution_count": null,
      "outputs": []
    },
    {
      "cell_type": "code",
      "source": [
        "# classes = 10\n",
        "# img_rows, img_cols = 100, 100\n",
        "# batch_size = 16"
      ],
      "metadata": {
        "id": "PxL2dnON77qX"
      },
      "execution_count": null,
      "outputs": []
    },
    {
      "cell_type": "code",
      "source": [
        "import numpy as np\n",
        "import matplotlib.pyplot as plt\n",
        "from sklearn.datasets import fetch_openml\n",
        "from sklearn.model_selection import train_test_split\n",
        "import tensorflow as tf\n",
        "from tensorflow.keras.models import Sequential\n",
        "from tensorflow.keras.layers import Dense, Dropout, Flatten, Conv2D, MaxPooling2D, BatchNormalization, Activation\n",
        "from tensorflow.keras.utils import to_categorical\n",
        "\n",
        "# Fetch the MNIST dataset\n",
        "mnist = fetch_openml('mnist_784', as_frame=False)\n",
        "\n",
        "# Extract feature data (images) and target labels\n",
        "Bishal, Kharel = mnist['data'], mnist['target']\n",
        "Kharel = Kharel.astype(np.uint8)\n",
        "\n",
        "# Normalize the feature data\n",
        "Bishal = Bishal / 255.0\n",
        "\n",
        "# Reshape the data to fit the model\n",
        "Bishal = Bishal.reshape(-1, 28, 28, 1)\n",
        "\n",
        "# Convert target labels to categorical format\n",
        "Kharel = to_categorical(Kharel, 10)\n",
        "\n",
        "# Splitting the last two digits from Student_ID\n",
        "Student_ID = 'S00354541'\n",
        "last_two_digits = int(Student_ID[-2:])\n",
        "\n",
        "# Split the dataset into training, validation, and testing sets\n",
        "Bishal_train, Bishal_test, Kharel_train, Kharel_test = train_test_split(\n",
        "    Bishal, Kharel, test_size=10000, train_size=60000, random_state=last_two_digits\n",
        ")\n",
        "Bishal_train, Bishal_val, Kharel_train, Kharel_val = train_test_split(\n",
        "    Bishal_train, Kharel_train, test_size=0.2, random_state=last_two_digits\n",
        ")\n",
        "\n",
        "# Check the shapes to confirm the splits\n",
        "print('Training data shape:', Bishal_train.shape)\n",
        "print('Validation data shape:', Bishal_val.shape)\n",
        "print('Testing data shape:', Bishal_test.shape)\n",
        "\n",
        "# Classification Model Designing\n",
        "model = Sequential()\n",
        "\n",
        "# First set of conv-relu layers\n",
        "model.add(Conv2D(64, (3, 3), padding='same', input_shape=(28, 28, 1)))\n",
        "model.add(Activation('relu'))\n",
        "model.add(Conv2D(64, (3, 3)))\n",
        "model.add(Activation('relu'))\n",
        "model.add(MaxPooling2D(pool_size=(2, 2)))\n",
        "model.add(BatchNormalization())\n",
        "model.add(Dropout(0.25))\n",
        "\n",
        "# Second set of conv-relu layers\n",
        "model.add(Conv2D(32, (3, 3), padding='same'))\n",
        "model.add(Activation('relu'))\n",
        "model.add(Conv2D(32, (3, 3)))\n",
        "model.add(Activation('relu'))\n",
        "model.add(MaxPooling2D(pool_size=(2, 2)))\n",
        "model.add(Dropout(0.5))\n",
        "\n",
        "# Fully connected layers\n",
        "model.add(Flatten())\n",
        "model.add(Dense(512))\n",
        "model.add(Activation('relu'))\n",
        "model.add(Dropout(0.5))\n",
        "\n",
        "model.add(Dense(10))\n",
        "model.add(Activation('softmax'))\n",
        "\n",
        "# Compile the model\n",
        "model.compile(optimizer='adam',\n",
        "              loss='categorical_crossentropy',\n",
        "              metrics=['accuracy'])\n",
        "\n",
        "# Train the model\n",
        "history = model.fit(Bishal_train, Kharel_train, epochs=10, validation_data=(Bishal_val, Kharel_val))\n",
        "\n",
        "# Evaluate the model on the test set\n",
        "test_loss, test_acc = model.evaluate(Bishal_test, Kharel_test, verbose=2)\n",
        "print(f'Test accuracy: {test_acc}')\n",
        "\n",
        "# Plot training & validation accuracy values\n",
        "plt.plot(history.history['accuracy'])\n",
        "plt.plot(history.history['val_accuracy'])\n",
        "plt.title('Model accuracy')\n",
        "plt.ylabel('Accuracy')\n",
        "plt.xlabel('Epoch')\n",
        "plt.legend(['Train', 'Validation'], loc='upper left')\n",
        "plt.show()\n",
        "\n",
        "# Plot training & validation loss values\n",
        "plt.plot(history.history['loss'])\n",
        "plt.plot(history.history['val_loss'])\n",
        "plt.title('Model loss')\n",
        "plt.ylabel('Loss')\n",
        "plt.xlabel('Epoch')\n",
        "plt.legend(['Train', 'Validation'], loc='upper left')\n",
        "plt.show()\n"
      ],
      "metadata": {
        "colab": {
          "base_uri": "https://localhost:8080/"
        },
        "id": "oZLjkz-p7772",
        "outputId": "0a4448f3-5ca3-4af0-833b-a1f5803e258d"
      },
      "execution_count": null,
      "outputs": [
        {
          "output_type": "stream",
          "name": "stdout",
          "text": [
            "Training data shape: (48000, 28, 28, 1)\n",
            "Validation data shape: (12000, 28, 28, 1)\n",
            "Testing data shape: (10000, 28, 28, 1)\n",
            "Epoch 1/10\n",
            "1500/1500 [==============================] - 337s 224ms/step - loss: 0.2356 - accuracy: 0.9256 - val_loss: 0.0560 - val_accuracy: 0.9818\n",
            "Epoch 2/10\n",
            "1500/1500 [==============================] - 314s 209ms/step - loss: 0.1002 - accuracy: 0.9692 - val_loss: 0.0413 - val_accuracy: 0.9872\n",
            "Epoch 3/10\n",
            "1500/1500 [==============================] - 305s 204ms/step - loss: 0.0857 - accuracy: 0.9753 - val_loss: 0.0431 - val_accuracy: 0.9875\n",
            "Epoch 4/10\n",
            "1500/1500 [==============================] - 306s 204ms/step - loss: 0.0745 - accuracy: 0.9785 - val_loss: 0.0393 - val_accuracy: 0.9876\n",
            "Epoch 5/10\n",
            "1500/1500 [==============================] - 311s 207ms/step - loss: 0.0698 - accuracy: 0.9795 - val_loss: 0.0336 - val_accuracy: 0.9898\n",
            "Epoch 6/10\n",
            "1500/1500 [==============================] - 309s 206ms/step - loss: 0.0678 - accuracy: 0.9804 - val_loss: 0.0323 - val_accuracy: 0.9898\n",
            "Epoch 7/10\n",
            "1500/1500 [==============================] - 307s 205ms/step - loss: 0.0629 - accuracy: 0.9818 - val_loss: 0.0422 - val_accuracy: 0.9893\n",
            "Epoch 8/10\n",
            "1500/1500 [==============================] - 312s 208ms/step - loss: 0.0560 - accuracy: 0.9827 - val_loss: 0.0306 - val_accuracy: 0.9918\n",
            "Epoch 9/10\n",
            "1500/1500 [==============================] - 311s 207ms/step - loss: 0.0538 - accuracy: 0.9844 - val_loss: 0.0291 - val_accuracy: 0.9915\n",
            "Epoch 10/10\n",
            "1500/1500 [==============================] - 310s 207ms/step - loss: 0.0526 - accuracy: 0.9840 - val_loss: 0.0307 - val_accuracy: 0.9909\n",
            "313/313 - 15s - loss: 0.0309 - accuracy: 0.9920 - 15s/epoch - 49ms/step\n"
          ]
        }
      ]
    },
    {
      "cell_type": "markdown",
      "source": [
        "**5. Critical Analysis:**\n",
        "\n",
        "a. Compare all the proposed classifiers. Analyze the performance and characteristics of each model\n",
        "used in this assessment. Create a comprehensive visualization that compares their accuracies,\n",
        "precision, recall, and F1 scores. Discuss the potential real-world applications of each model based\n",
        "on their performance metrics and propose improvements or alternative models for those\n",
        "applications."
      ],
      "metadata": {
        "id": "s5g71KWFS5QS"
      }
    },
    {
      "cell_type": "code",
      "source": [],
      "metadata": {
        "id": "oNmqY3KS77_B"
      },
      "execution_count": 11,
      "outputs": []
    },
    {
      "cell_type": "code",
      "source": [
        "import numpy as np\n",
        "import pandas as pd\n",
        "import matplotlib.pyplot as plt\n",
        "import seaborn as sns\n",
        "from sklearn.metrics import classification_report, accuracy_score, precision_score, recall_score, f1_score\n",
        "from sklearn.neighbors import KNeighborsClassifier\n",
        "from sklearn.svm import SVC\n",
        "from sklearn.model_selection import train_test_split\n",
        "from tensorflow.keras.utils import to_categorical\n",
        "\n",
        "# Convert one-hot encoded labels back to 1D array of class labels\n",
        "Kharel_train_labels = np.argmax(Kharel_train, axis=1)\n",
        "Kharel_test_labels = np.argmax(Kharel_test, axis=1)\n",
        "Kharel_val_labels = np.argmax(Kharel_val, axis=1)\n",
        "\n",
        "# Flatten the 4D image data to 2D for kNN and SVM classifiers\n",
        "Bishal_train_flat = Bishal_train.reshape(Bishal_train.shape[0], -1)\n",
        "Bishal_test_flat = Bishal_test.reshape(Bishal_test.shape[0], -1)\n",
        "Bishal_val_flat = Bishal_val.reshape(Bishal_val.shape[0], -1)\n",
        "\n",
        "# Function to calculate and store metrics\n",
        "def calculate_metrics(y_true, y_pred, classifier_name):\n",
        "    accuracy = accuracy_score(y_true, y_pred)\n",
        "    precision = precision_score(y_true, y_pred, average='weighted')\n",
        "    recall = recall_score(y_true, y_pred, average='weighted')\n",
        "    f1 = f1_score(y_true, y_pred, average='weighted')\n",
        "    return {\n",
        "        'Classifier': classifier_name,\n",
        "        'Accuracy': accuracy,\n",
        "        'Precision': precision,\n",
        "        'Recall': recall,\n",
        "        'F1 Score': f1\n",
        "    }\n",
        "\n",
        "# kNN Classifier metrics\n",
        "knn_metrics = []\n",
        "for k in range(1, 22, 3):\n",
        "    # Create kNN classifier with varying number of neighbors\n",
        "    knn_classifier = KNeighborsClassifier(n_neighbors=k)\n",
        "    # Train the classifier using flattened training data\n",
        "    knn_classifier.fit(Bishal_train_flat, Kharel_train_labels)\n",
        "    # Make predictions on flattened test data\n",
        "    knn_predictions = knn_classifier.predict(Bishal_test_flat)\n",
        "    # Calculate metrics using the defined function\n",
        "    metrics = calculate_metrics(Kharel_test_labels, knn_predictions, f'kNN (k={k})')\n",
        "    # Append metrics to the list\n",
        "    knn_metrics.append(metrics)\n",
        "\n",
        "# SVM Classifier metrics\n",
        "svm_classifier = SVC(C=1.0, kernel='rbf', gamma='scale')\n",
        "# Train the SVM classifier using flattened training data\n",
        "svm_classifier.fit(Bishal_train_flat, Kharel_train_labels)\n",
        "# Make predictions on flattened test data\n",
        "svm_predictions = svm_classifier.predict(Bishal_test_flat)\n",
        "# Calculate metrics using the defined function\n",
        "svm_metrics = calculate_metrics(Kharel_test_labels, svm_predictions, 'SVM')\n",
        "\n",
        "# CNN metrics (using history and evaluation results)\n",
        "# Make predictions using the trained CNN model on test data\n",
        "cnn_predictions = model.predict(Bishal_test)\n",
        "# Convert predictions from one-hot encoding to class labels\n",
        "cnn_predictions = np.argmax(cnn_predictions, axis=1)\n",
        "# Convert true labels from one-hot encoding to class labels\n",
        "cnn_true_labels = np.argmax(Kharel_test, axis=1)\n",
        "# Calculate metrics using the defined function\n",
        "cnn_metrics = calculate_metrics(cnn_true_labels, cnn_predictions, 'CNN')\n",
        "\n",
        "# Combine all metrics into a single DataFrame\n",
        "all_metrics = pd.DataFrame(knn_metrics + [svm_metrics, cnn_metrics])\n",
        "\n",
        "# Plotting the metrics\n",
        "fig, axes = plt.subplots(2, 2, figsize=(15, 10))\n",
        "metrics_to_plot = ['Accuracy', 'Precision', 'Recall', 'F1 Score']\n",
        "# Plot bar plots for each metric\n",
        "for i, metric in enumerate(metrics_to_plot):\n",
        "    sns.barplot(x='Classifier', y=metric, data=all_metrics, ax=axes[i//2, i%2])\n",
        "    axes[i//2, i%2].set_title(f'Comparison of {metric}')\n",
        "\n",
        "plt.tight_layout()\n",
        "plt.show()\n",
        "\n",
        "# Display the metrics\n",
        "print(all_metrics)\n",
        "\n",
        "# Detailed Discussion:\n",
        "# - Analyze the performance and characteristics of each classifier.\n",
        "# - Discuss potential real-world applications based on performance metrics.\n",
        "# - Propose improvements or alternative models for specific applications.\n"
      ],
      "metadata": {
        "id": "MbTDGYOn78B1",
        "colab": {
          "base_uri": "https://localhost:8080/",
          "height": 626
        },
        "outputId": "79a8d87a-e03b-45aa-cf44-b5bef5ed7c3e"
      },
      "execution_count": null,
      "outputs": [
        {
          "output_type": "stream",
          "name": "stdout",
          "text": [
            "313/313 [==============================] - 13s 42ms/step\n"
          ]
        },
        {
          "output_type": "display_data",
          "data": {
            "text/plain": [
              "<Figure size 1500x1000 with 4 Axes>"
            ],
            "image/png": "[encoded data removed]"
          },
          "metadata": {}
        },
        {
          "output_type": "stream",
          "name": "stdout",
          "text": [
            "   Classifier  Accuracy  Precision  Recall  F1 Score\n",
            "0   kNN (k=1)    0.9698   0.969924  0.9698  0.969760\n",
            "1   kNN (k=4)    0.9685   0.968703  0.9685  0.968388\n",
            "2   kNN (k=7)    0.9694   0.969663  0.9694  0.969327\n",
            "3  kNN (k=10)    0.9652   0.965537  0.9652  0.965113\n",
            "4  kNN (k=13)    0.9632   0.963715  0.9632  0.963108\n",
            "5  kNN (k=16)    0.9608   0.961358  0.9608  0.960687\n",
            "6  kNN (k=19)    0.9583   0.958992  0.9583  0.958183\n",
            "7         SVM    0.9762   0.976237  0.9762  0.976196\n",
            "8         CNN    0.9898   0.989838  0.9898  0.989801\n"
          ]
        }
      ]
    },
    {
      "cell_type": "code",
      "source": [],
      "metadata": {
        "id": "OOBuB8bH78E8"
      },
      "execution_count": null,
      "outputs": []
    },
    {
      "cell_type": "markdown",
      "source": [
        "**6. Regression Analysis**\n",
        "\n",
        "Implement Polynomial Regression on the California housing dataset and address the following points:\n",
        "\n",
        "a. Import the california_housing dataset from the sklearn.datasets\n",
        "\n",
        "b. Explain the choice of the regression type and its parameters.\n",
        "\n",
        "c.Evaluate its performance and discuss the results in the context of the chosen model.\n",
        "\n",
        "d. Analyze the impact of different polynomial degrees on the model's performance.\n",
        "\n",
        "e. Visualize the relationship between actual vs. predicted prices and discuss any visible trends or\n",
        "anomalies."
      ],
      "metadata": {
        "id": "eBDz-tO4fpst"
      }
    },
    {
      "cell_type": "code",
      "source": [
        "#a. Importing the california_housing dataset from the sklearn.datasets\n"
      ],
      "metadata": {
        "id": "G7pvcXFh78IY"
      },
      "execution_count": null,
      "outputs": []
    },
    {
      "cell_type": "code",
      "source": [
        "from sklearn.datasets import fetch_california_housing\n",
        "from sklearn.model_selection import train_test_split\n",
        "from sklearn.preprocessing import PolynomialFeatures\n",
        "from sklearn.linear_model import LinearRegression\n",
        "from sklearn.metrics import mean_squared_error, r2_score\n",
        "import matplotlib.pyplot as plt\n",
        "import numpy as np\n",
        "\n",
        "# Load the dataset\n",
        "california_housing = fetch_california_housing()\n",
        "\n",
        "# Split the data into features and target variable\n",
        "X = california_housing.data\n",
        "y = california_housing.target\n",
        "\n",
        "# Split the data into training and testing sets\n",
        "X_train, X_test, y_train, y_test = train_test_split(X, y, test_size=0.2, random_state=42)\n"
      ],
      "metadata": {
        "id": "MYCWeKqjgVTq"
      },
      "execution_count": 8,
      "outputs": []
    },
    {
      "cell_type": "markdown",
      "source": [],
      "metadata": {
        "id": "xsL3PXyZhiOX"
      }
    },
    {
      "cell_type": "code",
      "source": [
        "# Function to evaluate Polynomial Regression for a given degree\n",
        "def evaluate_polynomial_regression(degree):\n",
        "    # Creating polynomial features\n",
        "    poly = PolynomialFeatures(degree=degree)\n",
        "    X_train_poly = poly.fit_transform(X_train)\n",
        "    X_test_poly = poly.transform(X_test)\n",
        "\n",
        "    # Fitting the model\n",
        "    model = LinearRegression()\n",
        "    model.fit(X_train_poly, y_train)\n",
        "\n",
        "    # Predicting\n",
        "    y_train_pred = model.predict(X_train_poly)\n",
        "    y_test_pred = model.predict(X_test_poly)\n",
        "\n",
        "    # Evaluating the model\n",
        "    train_mse = mean_squared_error(y_train, y_train_pred)\n",
        "    test_mse = mean_squared_error(y_test, y_test_pred)\n",
        "    train_r2 = r2_score(y_train, y_train_pred)\n",
        "    test_r2 = r2_score(y_test, y_test_pred)\n",
        "\n",
        "    return train_mse, test_mse, train_r2, test_r2\n",
        "\n",
        "# Evaluating models with polynomial degrees 1, 2, 3, and 4\n",
        "degrees = [1, 2, 3, 4]\n",
        "results = {}\n",
        "for degree in degrees:\n",
        "    results[degree] = evaluate_polynomial_regression(degree)\n",
        "\n",
        "results\n"
      ],
      "metadata": {
        "colab": {
          "base_uri": "https://localhost:8080/"
        },
        "id": "bwNSIbF5gVWY",
        "outputId": "2ba62039-08b6-4c45-9d66-4f62296bac93"
      },
      "execution_count": 9,
      "outputs": [
        {
          "output_type": "execute_result",
          "data": {
            "text/plain": [
              "{1: (0.5179331255246699,\n",
              "  0.5558915986952434,\n",
              "  0.6125511913966952,\n",
              "  0.5757877060324514),\n",
              " 2: (0.4207266151573564,\n",
              "  0.46430152592457724,\n",
              "  0.6852681982344948,\n",
              "  0.6456819713278688),\n",
              " 3: (0.3426749827094518,\n",
              "  24.10578525060609,\n",
              "  0.7436560682338298,\n",
              "  -17.395619727030436),\n",
              " 4: (0.34780144371195465,\n",
              "  2378.0422535310913,\n",
              "  0.7398211306523439,\n",
              "  -1813.7328757800399)}"
            ]
          },
          "metadata": {},
          "execution_count": 9
        }
      ]
    },
    {
      "cell_type": "code",
      "source": [
        "for degree in degrees:\n",
        "    train_mse, test_mse, train_r2, test_r2 = results[degree]\n",
        "    print(f\"Degree: {degree}\")\n",
        "    print(f\"Train MSE: {train_mse:.4f}, Test MSE: {test_mse:.4f}\")\n",
        "    print(f\"Train R^2: {train_r2:.4f}, Test R^2: {test_r2:.4f}\")\n",
        "    print()\n"
      ],
      "metadata": {
        "colab": {
          "base_uri": "https://localhost:8080/"
        },
        "id": "fqmQIue_gVZI",
        "outputId": "4a610208-1184-4e72-ae91-03d53cbb14e4"
      },
      "execution_count": 10,
      "outputs": [
        {
          "output_type": "stream",
          "name": "stdout",
          "text": [
            "Degree: 1\n",
            "Train MSE: 0.5179, Test MSE: 0.5559\n",
            "Train R^2: 0.6126, Test R^2: 0.5758\n",
            "\n",
            "Degree: 2\n",
            "Train MSE: 0.4207, Test MSE: 0.4643\n",
            "Train R^2: 0.6853, Test R^2: 0.6457\n",
            "\n",
            "Degree: 3\n",
            "Train MSE: 0.3427, Test MSE: 24.1058\n",
            "Train R^2: 0.7437, Test R^2: -17.3956\n",
            "\n",
            "Degree: 4\n",
            "Train MSE: 0.3478, Test MSE: 2378.0423\n",
            "Train R^2: 0.7398, Test R^2: -1813.7329\n",
            "\n"
          ]
        }
      ]
    },
    {
      "cell_type": "code",
      "source": [
        "# Visualizing actual vs predicted prices for the best degree\n",
        "best_degree = 2  # Assume degree 2 is the best based on results\n",
        "\n",
        "# Creating polynomial features with the best degree\n",
        "poly = PolynomialFeatures(degree=best_degree)\n",
        "X_train_poly = poly.fit_transform(X_train)  # Transform training features\n",
        "X_test_poly = poly.transform(X_test)  # Transform testing features\n",
        "\n",
        "# Initializing Linear Regression model\n",
        "model = LinearRegression()\n",
        "\n",
        "# Training the model using the polynomial features\n",
        "model.fit(X_train_poly, y_train)\n",
        "\n",
        "# Prediciting prices using the trained model and polynomial features\n",
        "y_test_pred = model.predict(X_test_poly)\n",
        "\n",
        "# Ploting the actual vs predicted prices\n",
        "plt.figure(figsize=(10, 6))\n",
        "plt.scatter(y_test, y_test_pred, alpha=0.3)  # Scatter plot of actual vs predicted prices\n",
        "plt.plot([y_test.min(), y_test.max()], [y_test.min(), y_test.max()], 'k--', lw=2)  # Diagonal line for reference\n",
        "plt.xlabel('Actual Prices')  # X-axis label\n",
        "plt.ylabel('Predicted Prices')  # Y-axis label\n",
        "plt.title(f'Actual vs Predicted Prices (Degree {best_degree})')  # Title of the plot\n",
        "plt.show()  # Display the plot\n"
      ],
      "metadata": {
        "colab": {
          "base_uri": "https://localhost:8080/",
          "height": 564
        },
        "id": "8TRWXgL3gVcK",
        "outputId": "d3262c7e-26cf-4e02-eef2-8b28db3291e7"
      },
      "execution_count": 11,
      "outputs": [
        {
          "output_type": "display_data",
          "data": {
            "text/plain": [
              "<Figure size 1000x600 with 1 Axes>"
            ],
            "image/png": "[encoded data removed]"
          },
          "metadata": {}
        }
      ]
    },
    {
      "cell_type": "code",
      "source": [],
      "metadata": {
        "id": "kkYP9262gVga"
      },
      "execution_count": null,
      "outputs": []
    },
    {
      "cell_type": "code",
      "source": [],
      "metadata": {
        "id": "TJVP1pVHgVh7"
      },
      "execution_count": null,
      "outputs": []
    },
    {
      "cell_type": "code",
      "source": [],
      "metadata": {
        "id": "vKIU4LuXgVkx"
      },
      "execution_count": null,
      "outputs": []
    },
    {
      "cell_type": "code",
      "source": [],
      "metadata": {
        "id": "PDHIx66CgVnp"
      },
      "execution_count": null,
      "outputs": []
    },
    {
      "cell_type": "code",
      "source": [],
      "metadata": {
        "id": "lrTwzN9ngVqP"
      },
      "execution_count": null,
      "outputs": []
    },
    {
      "cell_type": "code",
      "source": [],
      "metadata": {
        "id": "spaARnhZgVtT"
      },
      "execution_count": null,
      "outputs": []
    },
    {
      "cell_type": "code",
      "source": [],
      "metadata": {
        "id": "btdLUf3MgVwP"
      },
      "execution_count": null,
      "outputs": []
    },
    {
      "cell_type": "code",
      "source": [],
      "metadata": {
        "id": "IL06JAIqgVzK"
      },
      "execution_count": null,
      "outputs": []
    },
    {
      "cell_type": "code",
      "source": [],
      "metadata": {
        "id": "uqUN8Tf1gV1x"
      },
      "execution_count": null,
      "outputs": []
    },
    {
      "cell_type": "code",
      "source": [],
      "metadata": {
        "id": "xy0UYzETgV5C"
      },
      "execution_count": null,
      "outputs": []
    }
  ],
  "metadata": {
    "accelerator": "GPU",
    "colab": {
      "gpuType": "T4",
      "provenance": []
    },
    "kernelspec": {
      "display_name": "Python 3",
      "name": "python3"
    },
    "language_info": {
      "name": "python"
    }
  },
  "nbformat": 4,
  "nbformat_minor": 0
}